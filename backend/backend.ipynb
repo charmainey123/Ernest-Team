{
 "cells": [
  {
   "cell_type": "code",
   "execution_count": 3,
   "id": "fcf1ab53",
   "metadata": {},
   "outputs": [],
   "source": [
    "from flask import Flask\n",
    "from flask_socketio import SocketIO\n",
    "from subprocess import Popen, PIPE"
   ]
  },
  {
   "cell_type": "code",
   "execution_count": null,
   "id": "dbd23702",
   "metadata": {},
   "outputs": [],
   "source": [
    "app = Flask(__name__)\n",
    "socketio = SocketIO(app, cors_allowed_origins='*')\n",
    "\n",
    "@socketio.on('connect')\n",
    "def handle_connect():\n",
    "    # Start the Python script in the background and capture the output\n",
    "    process = Popen(['python', \"./speechToText.py\"], stdout=PIPE, stderr=PIPE)\n",
    "    \n",
    "    # Continuously send the output to the frontend\n",
    "    while True:\n",
    "        output = process.stdout.readline().decode().strip()\n",
    "        if output:\n",
    "            socketio.emit('script_output', output)\n",
    "\n",
    "if __name__ == '__main__':\n",
    "    socketio.run(app)"
   ]
  }
 ],
 "metadata": {
  "kernelspec": {
   "display_name": "Python 3",
   "language": "python",
   "name": "python3"
  },
  "language_info": {
   "codemirror_mode": {
    "name": "ipython",
    "version": 3
   },
   "file_extension": ".py",
   "mimetype": "text/x-python",
   "name": "python",
   "nbconvert_exporter": "python",
   "pygments_lexer": "ipython3",
   "version": "3.8.8"
  }
 },
 "nbformat": 4,
 "nbformat_minor": 5
}
