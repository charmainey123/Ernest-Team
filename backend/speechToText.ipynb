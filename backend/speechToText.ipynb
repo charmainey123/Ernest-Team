{
 "cells": [
  {
   "cell_type": "markdown",
   "id": "d0742955",
   "metadata": {},
   "source": [
    "# Importing All Libraries"
   ]
  },
  {
   "cell_type": "code",
   "execution_count": 1,
   "id": "5b01fa57",
   "metadata": {},
   "outputs": [],
   "source": [
    "import speech_recognition as sr\n",
    "import pyttsx3\n",
    "import soundfile as sf\n",
    "import openai\n",
    "import os\n",
    "import sys"
   ]
  },
  {
   "cell_type": "markdown",
   "id": "b59ee2a4",
   "metadata": {},
   "source": [
    "# Initializing All Variables"
   ]
  },
  {
   "cell_type": "code",
   "execution_count": 2,
   "id": "c44dcf81",
   "metadata": {},
   "outputs": [
    {
     "name": "stdout",
     "output_type": "stream",
     "text": [
      "Object `# Reading API Key` not found.\n"
     ]
    }
   ],
   "source": [
    "# Reading API Key\n",
    "with open(\"./apikey.txt\") as file:\n",
    "    openai.api_key = file.read()\n",
    "\n",
    "# Define path to audio output file\n",
    "output_audio_file = \"./output.mp3\"\n",
    "\n",
    "# Initializing text-to-speech object\n",
    "engine = pyttsx3.init()\n",
    "\n",
    "# Define the persona of Ernest\n",
    "messages = [\n",
    "    {\"role\": \"system\", \"content\": \"You are Ernest, a friendly and empathetic virtual avatar from Standard Chartered Bank that can help recommend one of the bank savings account or current account best suited to customers' needs through meaningful conversations. There are only 3 products Ernest can recommend: Extra Saver, My Way and E Saver.\"},\n",
    "    {\"role\": \"user\", \"content\": \"Hi Ernest\\n\\n===\\n\\n\"},\n",
    "    {\"role\": \"assistant\", \"content\": \"How can I help you?\"},\n",
    "    {\"role\": \"user\", \"content\": \"What are the types of accounts you have?\\n\\n===\\n\\n\"},\n",
    "    {\"role\": \"assistant\", \"content\": \"We currently have two types of current accounts, one called My Way and the other called E-saver. The former is more for those above 55 years old with retirement planning in mind. The latter gives high interest on fresh funds. For current account, we have Extra Saver, an interest bearing account with cashback on card purchases.\"}\n",
    "]"
   ]
  },
  {
   "cell_type": "markdown",
   "id": "30b999fa",
   "metadata": {},
   "source": [
    "# Define functions "
   ]
  },
  {
   "cell_type": "code",
   "execution_count": 3,
   "id": "8940f991",
   "metadata": {},
   "outputs": [],
   "source": [
    "def speak(text):\n",
    "    engine.say(text)\n",
    "    engine.runAndWait()\n",
    "    \n",
    "def generate_response(transcript):\n",
    "    \n",
    "    transcript += '\\n\\n===\\n\\n'\n",
    "    # Append to the conversation\n",
    "    messages.append({\"role\": \"user\", \"content\": transcript})\n",
    "    conversation_context = ' '.join([f\"{msg['role']}: {msg['content']}\" for msg in messages])\n",
    "    \n",
    "    # Generate an instance of fine-tuned chatGPT\n",
    "    response = openai.Completion.create(engine='curie:ft-personal-2023-06-04-10-13-42',\n",
    "                                        prompt=conversation_context,\n",
    "                                        temperature=0,\n",
    "                                        max_tokens=100,\n",
    "                                        n=1,\n",
    "                                        stop=[\"\\n\"],\n",
    "                                        timeout=None)\n",
    "    messages.append({\"role\": \"assistant\", \"content\": response.choices[0].text.strip()})\n",
    "    return response.choices[0].text.strip()"
   ]
  },
  {
   "cell_type": "markdown",
   "id": "979ecf0c",
   "metadata": {},
   "source": [
    "# Audio-Response Generation"
   ]
  },
  {
   "cell_type": "code",
   "execution_count": 4,
   "id": "21f522ee",
   "metadata": {},
   "outputs": [],
   "source": [
    "\"\"\"\n",
    "This part of the code is triggered when the user clicks on the button \"speak to Ernest\"\n",
    "\"\"\"\n",
    "\n",
    "def trigger_response():\n",
    "    try:\n",
    "        with sr.Microphone() as mic:\n",
    "            recognizer = sr.Recognizer()\n",
    "            recognizer.adjust_for_ambient_noise(mic, duration = 1)\n",
    "\n",
    "            # Line 13 will be replaced by D-ID audio once it is ready to make the voice quality more consistent\n",
    "            speak(\"How can I help you?\")\n",
    "            audio = recognizer.listen(mic, phrase_time_limit=None, timeout=None)\n",
    "            with open(output_audio_file, \"wb\") as f:\n",
    "                f.write(audio.get_wav_data(convert_rate=44100, convert_width=2))\n",
    "            audio_file = open(output_audio_file, \"rb\")\n",
    "            transcript = openai.Audio.transcribe(\"whisper-1\", audio_file)[\"text\"]\n",
    "            print(\"You:\\n\", transcript,\"\\n\")\n",
    "            response = generate_response(transcript)\n",
    "            print(\"Ernest:\\n\", response, \"\\n\")\n",
    "\n",
    "            # Line 24 will be replaced by D-ID once it is ready\n",
    "            speak(response)\n",
    "    except sr.UnknownValueError:\n",
    "        sys.exit(1)"
   ]
  },
  {
   "cell_type": "markdown",
   "id": "99da9b27",
   "metadata": {},
   "source": [
    "# Call for Ernest (TBD)"
   ]
  },
  {
   "cell_type": "code",
   "execution_count": 5,
   "id": "647ad901",
   "metadata": {},
   "outputs": [
    {
     "name": "stdout",
     "output_type": "stream",
     "text": [
      "hi ernest\n",
      "You:\n",
      " I need help opening a bank account. I know you're capable of recommending some products to me, so I'll need your help. I'm looking for an account that can suit my lifestyle. I spend a lot, so I'm looking for more cash back. \n",
      "\n",
      "Ernest:\n",
      " I would recommend you to apply for our Extra Saver. It offers up to 15% cashback on purchases using our debit card, up to $2,000 per month. \n",
      "\n"
     ]
    },
    {
     "ename": "KeyboardInterrupt",
     "evalue": "",
     "output_type": "error",
     "traceback": [
      "\u001b[1;31m---------------------------------------------------------------------------\u001b[0m",
      "\u001b[1;31mKeyboardInterrupt\u001b[0m                         Traceback (most recent call last)",
      "\u001b[1;32m<ipython-input-5-7a07c670d087>\u001b[0m in \u001b[0;36m<module>\u001b[1;34m\u001b[0m\n\u001b[0;32m      3\u001b[0m         \u001b[1;32mwith\u001b[0m \u001b[0msr\u001b[0m\u001b[1;33m.\u001b[0m\u001b[0mMicrophone\u001b[0m\u001b[1;33m(\u001b[0m\u001b[1;33m)\u001b[0m \u001b[1;32mas\u001b[0m \u001b[0mmic\u001b[0m\u001b[1;33m:\u001b[0m\u001b[1;33m\u001b[0m\u001b[1;33m\u001b[0m\u001b[0m\n\u001b[0;32m      4\u001b[0m             \u001b[0mrecognizer\u001b[0m \u001b[1;33m=\u001b[0m \u001b[0msr\u001b[0m\u001b[1;33m.\u001b[0m\u001b[0mRecognizer\u001b[0m\u001b[1;33m(\u001b[0m\u001b[1;33m)\u001b[0m\u001b[1;33m\u001b[0m\u001b[1;33m\u001b[0m\u001b[0m\n\u001b[1;32m----> 5\u001b[1;33m             \u001b[0mrecognizer\u001b[0m\u001b[1;33m.\u001b[0m\u001b[0madjust_for_ambient_noise\u001b[0m\u001b[1;33m(\u001b[0m\u001b[0mmic\u001b[0m\u001b[1;33m,\u001b[0m \u001b[0mduration\u001b[0m \u001b[1;33m=\u001b[0m \u001b[1;36m0.3\u001b[0m\u001b[1;33m)\u001b[0m\u001b[1;33m\u001b[0m\u001b[1;33m\u001b[0m\u001b[0m\n\u001b[0m\u001b[0;32m      6\u001b[0m             \u001b[0maudio\u001b[0m \u001b[1;33m=\u001b[0m \u001b[0mrecognizer\u001b[0m\u001b[1;33m.\u001b[0m\u001b[0mlisten\u001b[0m\u001b[1;33m(\u001b[0m\u001b[0mmic\u001b[0m\u001b[1;33m,\u001b[0m \u001b[0mphrase_time_limit\u001b[0m\u001b[1;33m=\u001b[0m\u001b[1;36m3\u001b[0m\u001b[1;33m)\u001b[0m\u001b[1;33m\u001b[0m\u001b[1;33m\u001b[0m\u001b[0m\n\u001b[0;32m      7\u001b[0m             \u001b[0mcall\u001b[0m \u001b[1;33m=\u001b[0m \u001b[0mrecognizer\u001b[0m\u001b[1;33m.\u001b[0m\u001b[0mrecognize_google\u001b[0m\u001b[1;33m(\u001b[0m\u001b[0maudio\u001b[0m\u001b[1;33m)\u001b[0m\u001b[1;33m.\u001b[0m\u001b[0mlower\u001b[0m\u001b[1;33m(\u001b[0m\u001b[1;33m)\u001b[0m\u001b[1;33m\u001b[0m\u001b[1;33m\u001b[0m\u001b[0m\n",
      "\u001b[1;32m~\\Anaconda3\\lib\\site-packages\\speech_recognition\\__init__.py\u001b[0m in \u001b[0;36madjust_for_ambient_noise\u001b[1;34m(self, source, duration)\u001b[0m\n\u001b[0;32m    391\u001b[0m             \u001b[0melapsed_time\u001b[0m \u001b[1;33m+=\u001b[0m \u001b[0mseconds_per_buffer\u001b[0m\u001b[1;33m\u001b[0m\u001b[1;33m\u001b[0m\u001b[0m\n\u001b[0;32m    392\u001b[0m             \u001b[1;32mif\u001b[0m \u001b[0melapsed_time\u001b[0m \u001b[1;33m>\u001b[0m \u001b[0mduration\u001b[0m\u001b[1;33m:\u001b[0m \u001b[1;32mbreak\u001b[0m\u001b[1;33m\u001b[0m\u001b[1;33m\u001b[0m\u001b[0m\n\u001b[1;32m--> 393\u001b[1;33m             \u001b[0mbuffer\u001b[0m \u001b[1;33m=\u001b[0m \u001b[0msource\u001b[0m\u001b[1;33m.\u001b[0m\u001b[0mstream\u001b[0m\u001b[1;33m.\u001b[0m\u001b[0mread\u001b[0m\u001b[1;33m(\u001b[0m\u001b[0msource\u001b[0m\u001b[1;33m.\u001b[0m\u001b[0mCHUNK\u001b[0m\u001b[1;33m)\u001b[0m\u001b[1;33m\u001b[0m\u001b[1;33m\u001b[0m\u001b[0m\n\u001b[0m\u001b[0;32m    394\u001b[0m             \u001b[0menergy\u001b[0m \u001b[1;33m=\u001b[0m \u001b[0maudioop\u001b[0m\u001b[1;33m.\u001b[0m\u001b[0mrms\u001b[0m\u001b[1;33m(\u001b[0m\u001b[0mbuffer\u001b[0m\u001b[1;33m,\u001b[0m \u001b[0msource\u001b[0m\u001b[1;33m.\u001b[0m\u001b[0mSAMPLE_WIDTH\u001b[0m\u001b[1;33m)\u001b[0m  \u001b[1;31m# energy of the audio signal\u001b[0m\u001b[1;33m\u001b[0m\u001b[1;33m\u001b[0m\u001b[0m\n\u001b[0;32m    395\u001b[0m \u001b[1;33m\u001b[0m\u001b[0m\n",
      "\u001b[1;32m~\\Anaconda3\\lib\\site-packages\\speech_recognition\\__init__.py\u001b[0m in \u001b[0;36mread\u001b[1;34m(self, size)\u001b[0m\n\u001b[0;32m    197\u001b[0m \u001b[1;33m\u001b[0m\u001b[0m\n\u001b[0;32m    198\u001b[0m         \u001b[1;32mdef\u001b[0m \u001b[0mread\u001b[0m\u001b[1;33m(\u001b[0m\u001b[0mself\u001b[0m\u001b[1;33m,\u001b[0m \u001b[0msize\u001b[0m\u001b[1;33m)\u001b[0m\u001b[1;33m:\u001b[0m\u001b[1;33m\u001b[0m\u001b[1;33m\u001b[0m\u001b[0m\n\u001b[1;32m--> 199\u001b[1;33m             \u001b[1;32mreturn\u001b[0m \u001b[0mself\u001b[0m\u001b[1;33m.\u001b[0m\u001b[0mpyaudio_stream\u001b[0m\u001b[1;33m.\u001b[0m\u001b[0mread\u001b[0m\u001b[1;33m(\u001b[0m\u001b[0msize\u001b[0m\u001b[1;33m,\u001b[0m \u001b[0mexception_on_overflow\u001b[0m\u001b[1;33m=\u001b[0m\u001b[1;32mFalse\u001b[0m\u001b[1;33m)\u001b[0m\u001b[1;33m\u001b[0m\u001b[1;33m\u001b[0m\u001b[0m\n\u001b[0m\u001b[0;32m    200\u001b[0m \u001b[1;33m\u001b[0m\u001b[0m\n\u001b[0;32m    201\u001b[0m         \u001b[1;32mdef\u001b[0m \u001b[0mclose\u001b[0m\u001b[1;33m(\u001b[0m\u001b[0mself\u001b[0m\u001b[1;33m)\u001b[0m\u001b[1;33m:\u001b[0m\u001b[1;33m\u001b[0m\u001b[1;33m\u001b[0m\u001b[0m\n",
      "\u001b[1;32m~\\Anaconda3\\lib\\site-packages\\pyaudio\\__init__.py\u001b[0m in \u001b[0;36mread\u001b[1;34m(self, num_frames, exception_on_overflow)\u001b[0m\n\u001b[0;32m    568\u001b[0m                 raise IOError(\"Not input stream\",\n\u001b[0;32m    569\u001b[0m                               paCanNotReadFromAnOutputOnlyStream)\n\u001b[1;32m--> 570\u001b[1;33m             return pa.read_stream(self._stream, num_frames,\n\u001b[0m\u001b[0;32m    571\u001b[0m                                   exception_on_overflow)\n\u001b[0;32m    572\u001b[0m \u001b[1;33m\u001b[0m\u001b[0m\n",
      "\u001b[1;31mKeyboardInterrupt\u001b[0m: "
     ]
    }
   ],
   "source": [
    "while True:\n",
    "    try:\n",
    "        with sr.Microphone() as mic:\n",
    "            recognizer = sr.Recognizer()\n",
    "            recognizer.adjust_for_ambient_noise(mic, duration = 0.3)\n",
    "            audio = recognizer.listen(mic, phrase_time_limit=3)\n",
    "            call = recognizer.recognize_google(audio).lower()\n",
    "            print(call)\n",
    "\n",
    "            if 'ernest' in call or 'honest' in call or 'hyannis' in call or 'earnest' in call:\n",
    "                trigger_response()\n",
    "    except sr.UnknownValueError:\n",
    "        print(\"No audio detected. Continue detecting in background...\")\n",
    "        continue"
   ]
  }
 ],
 "metadata": {
  "kernelspec": {
   "display_name": "Python 3",
   "language": "python",
   "name": "python3"
  },
  "language_info": {
   "codemirror_mode": {
    "name": "ipython",
    "version": 3
   },
   "file_extension": ".py",
   "mimetype": "text/x-python",
   "name": "python",
   "nbconvert_exporter": "python",
   "pygments_lexer": "ipython3",
   "version": "3.8.8"
  }
 },
 "nbformat": 4,
 "nbformat_minor": 5
}
