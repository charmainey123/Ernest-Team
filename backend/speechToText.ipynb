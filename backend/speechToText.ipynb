{
 "cells": [
  {
   "cell_type": "markdown",
   "id": "d0742955",
   "metadata": {},
   "source": [
    "# Importing All Libraries"
   ]
  },
  {
   "cell_type": "code",
   "execution_count": 10,
   "id": "5b01fa57",
   "metadata": {},
   "outputs": [],
   "source": [
    "import speech_recognition as sr\n",
    "import pyttsx3\n",
    "import soundfile as sf\n",
    "import openai\n",
    "import os\n",
    "import sys\n",
    "import psycopg2\n",
    "import googletrans\n",
    "from datetime import datetime\n",
    "from googletrans import Translator"
   ]
  },
  {
   "cell_type": "code",
   "execution_count": 25,
   "id": "53802299",
   "metadata": {},
   "outputs": [
    {
     "name": "stdout",
     "output_type": "stream",
     "text": [
      "{'af': 'afrikaans', 'sq': 'albanian', 'am': 'amharic', 'ar': 'arabic', 'hy': 'armenian', 'az': 'azerbaijani', 'eu': 'basque', 'be': 'belarusian', 'bn': 'bengali', 'bs': 'bosnian', 'bg': 'bulgarian', 'ca': 'catalan', 'ceb': 'cebuano', 'ny': 'chichewa', 'zh-cn': 'chinese (simplified)', 'zh-tw': 'chinese (traditional)', 'co': 'corsican', 'hr': 'croatian', 'cs': 'czech', 'da': 'danish', 'nl': 'dutch', 'en': 'english', 'eo': 'esperanto', 'et': 'estonian', 'tl': 'filipino', 'fi': 'finnish', 'fr': 'french', 'fy': 'frisian', 'gl': 'galician', 'ka': 'georgian', 'de': 'german', 'el': 'greek', 'gu': 'gujarati', 'ht': 'haitian creole', 'ha': 'hausa', 'haw': 'hawaiian', 'iw': 'hebrew', 'he': 'hebrew', 'hi': 'hindi', 'hmn': 'hmong', 'hu': 'hungarian', 'is': 'icelandic', 'ig': 'igbo', 'id': 'indonesian', 'ga': 'irish', 'it': 'italian', 'ja': 'japanese', 'jw': 'javanese', 'kn': 'kannada', 'kk': 'kazakh', 'km': 'khmer', 'ko': 'korean', 'ku': 'kurdish (kurmanji)', 'ky': 'kyrgyz', 'lo': 'lao', 'la': 'latin', 'lv': 'latvian', 'lt': 'lithuanian', 'lb': 'luxembourgish', 'mk': 'macedonian', 'mg': 'malagasy', 'ms': 'malay', 'ml': 'malayalam', 'mt': 'maltese', 'mi': 'maori', 'mr': 'marathi', 'mn': 'mongolian', 'my': 'myanmar (burmese)', 'ne': 'nepali', 'no': 'norwegian', 'or': 'odia', 'ps': 'pashto', 'fa': 'persian', 'pl': 'polish', 'pt': 'portuguese', 'pa': 'punjabi', 'ro': 'romanian', 'ru': 'russian', 'sm': 'samoan', 'gd': 'scots gaelic', 'sr': 'serbian', 'st': 'sesotho', 'sn': 'shona', 'sd': 'sindhi', 'si': 'sinhala', 'sk': 'slovak', 'sl': 'slovenian', 'so': 'somali', 'es': 'spanish', 'su': 'sundanese', 'sw': 'swahili', 'sv': 'swedish', 'tg': 'tajik', 'ta': 'tamil', 'te': 'telugu', 'th': 'thai', 'tr': 'turkish', 'uk': 'ukrainian', 'ur': 'urdu', 'ug': 'uyghur', 'uz': 'uzbek', 'vi': 'vietnamese', 'cy': 'welsh', 'xh': 'xhosa', 'yi': 'yiddish', 'yo': 'yoruba', 'zu': 'zulu'}\n"
     ]
    }
   ],
   "source": [
    "print(googletrans.LANGUAGES)"
   ]
  },
  {
   "cell_type": "markdown",
   "id": "b59ee2a4",
   "metadata": {},
   "source": [
    "# Initializing All Variables"
   ]
  },
  {
   "cell_type": "code",
   "execution_count": 2,
   "id": "c44dcf81",
   "metadata": {},
   "outputs": [
    {
     "name": "stdout",
     "output_type": "stream",
     "text": [
      "Voice: Microsoft David Desktop - English (United States)\n",
      " - ID: HKEY_LOCAL_MACHINE\\SOFTWARE\\Microsoft\\Speech\\Voices\\Tokens\\TTS_MS_EN-US_DAVID_11.0\n",
      " - Languages: []\n",
      " - Gender: None\n",
      " - Age: None\n",
      "\n",
      "\n",
      "Voice: Microsoft Zira Desktop - English (United States)\n",
      " - ID: HKEY_LOCAL_MACHINE\\SOFTWARE\\Microsoft\\Speech\\Voices\\Tokens\\TTS_MS_EN-US_ZIRA_11.0\n",
      " - Languages: []\n",
      " - Gender: None\n",
      " - Age: None\n",
      "\n",
      "\n",
      "Voice: Microsoft Huihui Desktop - Chinese (Simplified)\n",
      " - ID: HKEY_LOCAL_MACHINE\\SOFTWARE\\Microsoft\\Speech\\Voices\\Tokens\\TTS_MS_ZH-CN_HUIHUI_11.0\n",
      " - Languages: []\n",
      " - Gender: None\n",
      " - Age: None\n",
      "\n",
      "\n"
     ]
    }
   ],
   "source": [
    "# Reading API Key\n",
    "with open(\"./apikey.txt\") as file:\n",
    "    openai.api_key = file.read()\n",
    "\n",
    "# Define path to audio output file\n",
    "output_audio_file = \"./output.mp3\"\n",
    "\n",
    "# Initializing text-to-speech object\n",
    "engine = pyttsx3.init()\n",
    "voices = engine.getProperty('voices')\n",
    "for voice in voices:\n",
    "    print(\"Voice: %s\" % voice.name)\n",
    "    print(\" - ID: %s\" % voice.id)\n",
    "    print(\" - Languages: %s\" % voice.languages)\n",
    "    print(\" - Gender: %s\" % voice.gender)\n",
    "    print(\" - Age: %s\" % voice.age)\n",
    "    print(\"\\n\")\n",
    "    \n",
    "engine.setProperty(\"voice\", voices[2].id)\n",
    "\n",
    "# Define the persona of Ernest\n",
    "messages = [\n",
    "    {\"role\": \"system\", \"content\": \"You are Ernest, a friendly and empathetic virtual avatar from Standard Chartered Bank that can help recommend one of the bank savings account or current account best suited to customers' needs through meaningful conversations. There are only 3 products Ernest can recommend: XtraSaver, MyWay and E-Saver.\"},\n",
    "    {\"role\": \"user\", \"content\": \"Hi Ernest\\n\\n===\\n\\n\"},\n",
    "    {\"role\": \"assistant\", \"content\": \" 您好，需要我的协助吗?\\n\"},\n",
    "    {\"role\": \"user\", \"content\": \"What are the types of accounts you have?\\n\\n===\\n\\n\"},\n",
    "    {\"role\": \"assistant\", \"content\": \" We currently have two types of savings accounts, one called MyWay and the other called E-saver. The former is more for those above 55 years old with retirement planning in mind. The latter gives high interest on fresh funds. For current account, we have XtraSaver, an interest bearing account with cashback on card purchases.\\n\"}\n",
    "]\n",
    "\n",
    "# Get today's date\n",
    "conversation_id = int(datetime.now().strftime(\"%Y%m%d%H%M%S\"))"
   ]
  },
  {
   "cell_type": "markdown",
   "id": "30b999fa",
   "metadata": {},
   "source": [
    "# Define functions "
   ]
  },
  {
   "cell_type": "code",
   "execution_count": 3,
   "id": "8940f991",
   "metadata": {},
   "outputs": [],
   "source": [
    "def speak(text):\n",
    "    engine.say(text)\n",
    "    engine.runAndWait()\n",
    "    \n",
    "def generate_response(transcript):\n",
    "    \n",
    "    transcript += '\\n\\n===\\n\\n'\n",
    "    # Append to the conversation\n",
    "    messages.append({\"role\": \"user\", \"content\": transcript})\n",
    "    conversation_context = ' '.join([f\"{msg['role']}: {msg['content']}\" for msg in messages])\n",
    "    \n",
    "    # Generate an instance of fine-tuned chatGPT\n",
    "    response = openai.Completion.create(engine='curie:ft-personal-2023-06-06-08-45-36',\n",
    "                                        prompt=conversation_context,\n",
    "                                        temperature=0,\n",
    "                                        max_tokens=100,\n",
    "                                        n=1,\n",
    "                                        stop=[\"\\n\"],\n",
    "                                        timeout=None).choices[0].text.strip()\n",
    "    if 'assistant:' in response:\n",
    "        response = response.strip('assistant:')\n",
    "        response = response.strip(' assistant:')\n",
    "    if 'user:' in response:\n",
    "        response = response.strip('user:')\n",
    "        response = response.strip(' user:')\n",
    "    \n",
    "    messages.append({\"role\": \"assistant\", \"content\": response})\n",
    "    return response"
   ]
  },
  {
   "cell_type": "markdown",
   "id": "449cace6",
   "metadata": {},
   "source": [
    "# Connecting to Database"
   ]
  },
  {
   "cell_type": "code",
   "execution_count": 4,
   "id": "4c36a642",
   "metadata": {},
   "outputs": [],
   "source": [
    "def post_to_database(conversation_id, role_id, response):\n",
    "    try:\n",
    "        connection = psycopg2.connect(user='postgres', \n",
    "                                      password='root',\n",
    "                                      host='localhost',\n",
    "                                      port=5432,\n",
    "                                      database='scverse')\n",
    "\n",
    "        cursor = connection.cursor()\n",
    "        query = \"insert into conversations (conversation_id, role_id, response) values ({}, '{}', '{}')\".format(conversation_id, role_id, response)\n",
    "        cursor.execute(query)\n",
    "        connection.commit()\n",
    "        cursor.close()\n",
    "        connection.close()\n",
    "    except:\n",
    "        print(\"Error posting results to database. Please check your connection.\")"
   ]
  },
  {
   "cell_type": "markdown",
   "id": "979ecf0c",
   "metadata": {},
   "source": [
    "# Audio-Response Generation"
   ]
  },
  {
   "cell_type": "code",
   "execution_count": 32,
   "id": "21f522ee",
   "metadata": {},
   "outputs": [],
   "source": [
    "\"\"\"\n",
    "This part of the code is triggered when the user clicks on the button \"speak to Ernest\"\n",
    "\"\"\"\n",
    "\n",
    "def trigger_response():\n",
    "    try:\n",
    "        with sr.Microphone() as mic:\n",
    "            recognizer = sr.Recognizer()\n",
    "            recognizer.adjust_for_ambient_noise(mic, duration = 1)\n",
    "\n",
    "            # Line 13 will be replaced by D-ID audio once it is ready to make the voice quality more consistent\n",
    "            speak(\"您好，需要我的协助吗?\")\n",
    "            audio = recognizer.listen(mic, phrase_time_limit=None, timeout=None)\n",
    "            with open(output_audio_file, \"wb\") as f:\n",
    "                f.write(audio.get_wav_data(convert_rate=44100, convert_width=2))\n",
    "            audio_file = open(output_audio_file, \"rb\")\n",
    "            transcript = openai.Audio.transcribe(\"whisper-1\", audio_file)[\"text\"]\n",
    "            post_to_database(conversation_id, 'user', transcript)\n",
    "            print(\"You:\\n\", transcript,\"\\n\")\n",
    "            response = generate_response(transcript)\n",
    "            translator = Translator()\n",
    "            translated_text = translator.translate(response, dest='zh-cn')\n",
    "            post_to_database(conversation_id, 'assistant', translated_text.text)\n",
    "            print(\"Ernest:\\n\", translated_text.text, \"\\n\")\n",
    "\n",
    "            # Line 24 will be replaced by D-ID once it is ready\n",
    "            speak(translated_text.text)\n",
    "    except sr.UnknownValueError:\n",
    "        sys.exit(1)"
   ]
  },
  {
   "cell_type": "markdown",
   "id": "99da9b27",
   "metadata": {},
   "source": [
    "# Call for Ernest (TBD)"
   ]
  },
  {
   "cell_type": "code",
   "execution_count": 34,
   "id": "647ad901",
   "metadata": {},
   "outputs": [
    {
     "name": "stdout",
     "output_type": "stream",
     "text": [
      "You:\n",
      " earnest\n",
      "Error posting results to database. Please check your connection.\n",
      "You:\n",
      " Can you recommend me an account? \n",
      "\n"
     ]
    },
    {
     "ename": "AttributeError",
     "evalue": "'NoneType' object has no attribute 'group'",
     "output_type": "error",
     "traceback": [
      "\u001b[1;31m---------------------------------------------------------------------------\u001b[0m",
      "\u001b[1;31mAttributeError\u001b[0m                            Traceback (most recent call last)",
      "Cell \u001b[1;32mIn[34], line 11\u001b[0m\n\u001b[0;32m      8\u001b[0m         \u001b[38;5;28mprint\u001b[39m(\u001b[38;5;124m\"\u001b[39m\u001b[38;5;124mYou:\u001b[39m\u001b[38;5;130;01m\\n\u001b[39;00m\u001b[38;5;124m\"\u001b[39m, call)\n\u001b[0;32m     10\u001b[0m         \u001b[38;5;28;01mif\u001b[39;00m \u001b[38;5;124m'\u001b[39m\u001b[38;5;124mernest\u001b[39m\u001b[38;5;124m'\u001b[39m \u001b[38;5;129;01min\u001b[39;00m call \u001b[38;5;129;01mor\u001b[39;00m \u001b[38;5;124m'\u001b[39m\u001b[38;5;124mhonest\u001b[39m\u001b[38;5;124m'\u001b[39m \u001b[38;5;129;01min\u001b[39;00m call \u001b[38;5;129;01mor\u001b[39;00m \u001b[38;5;124m'\u001b[39m\u001b[38;5;124mhyannis\u001b[39m\u001b[38;5;124m'\u001b[39m \u001b[38;5;129;01min\u001b[39;00m call \u001b[38;5;129;01mor\u001b[39;00m \u001b[38;5;124m'\u001b[39m\u001b[38;5;124mearnest\u001b[39m\u001b[38;5;124m'\u001b[39m \u001b[38;5;129;01min\u001b[39;00m call:\n\u001b[1;32m---> 11\u001b[0m             \u001b[43mtrigger_response\u001b[49m\u001b[43m(\u001b[49m\u001b[43m)\u001b[49m\n\u001b[0;32m     12\u001b[0m \u001b[38;5;28;01mexcept\u001b[39;00m sr\u001b[38;5;241m.\u001b[39mUnknownValueError:\n\u001b[0;32m     13\u001b[0m     \u001b[38;5;28mprint\u001b[39m(\u001b[38;5;124m\"\u001b[39m\u001b[38;5;124mNo audio detected. Continue detecting in background...\u001b[39m\u001b[38;5;124m\"\u001b[39m)\n",
      "Cell \u001b[1;32mIn[32], line 22\u001b[0m, in \u001b[0;36mtrigger_response\u001b[1;34m()\u001b[0m\n\u001b[0;32m     20\u001b[0m response \u001b[38;5;241m=\u001b[39m generate_response(transcript)\n\u001b[0;32m     21\u001b[0m translator \u001b[38;5;241m=\u001b[39m Translator()\n\u001b[1;32m---> 22\u001b[0m translated_text \u001b[38;5;241m=\u001b[39m \u001b[43mtranslator\u001b[49m\u001b[38;5;241;43m.\u001b[39;49m\u001b[43mtranslate\u001b[49m\u001b[43m(\u001b[49m\u001b[43mresponse\u001b[49m\u001b[43m,\u001b[49m\u001b[43m \u001b[49m\u001b[43mdest\u001b[49m\u001b[38;5;241;43m=\u001b[39;49m\u001b[38;5;124;43m'\u001b[39;49m\u001b[38;5;124;43mzh-cn\u001b[39;49m\u001b[38;5;124;43m'\u001b[39;49m\u001b[43m)\u001b[49m\n\u001b[0;32m     23\u001b[0m post_to_database(conversation_id, \u001b[38;5;124m'\u001b[39m\u001b[38;5;124massistant\u001b[39m\u001b[38;5;124m'\u001b[39m, translated_text\u001b[38;5;241m.\u001b[39mtext)\n\u001b[0;32m     24\u001b[0m \u001b[38;5;28mprint\u001b[39m(\u001b[38;5;124m\"\u001b[39m\u001b[38;5;124mErnest:\u001b[39m\u001b[38;5;130;01m\\n\u001b[39;00m\u001b[38;5;124m\"\u001b[39m, translated_text\u001b[38;5;241m.\u001b[39mtext, \u001b[38;5;124m\"\u001b[39m\u001b[38;5;130;01m\\n\u001b[39;00m\u001b[38;5;124m\"\u001b[39m)\n",
      "File \u001b[1;32m~\\anaconda3\\lib\\site-packages\\googletrans\\client.py:182\u001b[0m, in \u001b[0;36mTranslator.translate\u001b[1;34m(self, text, dest, src, **kwargs)\u001b[0m\n\u001b[0;32m    179\u001b[0m     \u001b[38;5;28;01mreturn\u001b[39;00m result\n\u001b[0;32m    181\u001b[0m origin \u001b[38;5;241m=\u001b[39m text\n\u001b[1;32m--> 182\u001b[0m data \u001b[38;5;241m=\u001b[39m \u001b[38;5;28;43mself\u001b[39;49m\u001b[38;5;241;43m.\u001b[39;49m\u001b[43m_translate\u001b[49m\u001b[43m(\u001b[49m\u001b[43mtext\u001b[49m\u001b[43m,\u001b[49m\u001b[43m \u001b[49m\u001b[43mdest\u001b[49m\u001b[43m,\u001b[49m\u001b[43m \u001b[49m\u001b[43msrc\u001b[49m\u001b[43m,\u001b[49m\u001b[43m \u001b[49m\u001b[43mkwargs\u001b[49m\u001b[43m)\u001b[49m\n\u001b[0;32m    184\u001b[0m \u001b[38;5;66;03m# this code will be updated when the format is changed.\u001b[39;00m\n\u001b[0;32m    185\u001b[0m translated \u001b[38;5;241m=\u001b[39m \u001b[38;5;124m'\u001b[39m\u001b[38;5;124m'\u001b[39m\u001b[38;5;241m.\u001b[39mjoin([d[\u001b[38;5;241m0\u001b[39m] \u001b[38;5;28;01mif\u001b[39;00m d[\u001b[38;5;241m0\u001b[39m] \u001b[38;5;28;01melse\u001b[39;00m \u001b[38;5;124m'\u001b[39m\u001b[38;5;124m'\u001b[39m \u001b[38;5;28;01mfor\u001b[39;00m d \u001b[38;5;129;01min\u001b[39;00m data[\u001b[38;5;241m0\u001b[39m]])\n",
      "File \u001b[1;32m~\\anaconda3\\lib\\site-packages\\googletrans\\client.py:78\u001b[0m, in \u001b[0;36mTranslator._translate\u001b[1;34m(self, text, dest, src, override)\u001b[0m\n\u001b[0;32m     77\u001b[0m \u001b[38;5;28;01mdef\u001b[39;00m \u001b[38;5;21m_translate\u001b[39m(\u001b[38;5;28mself\u001b[39m, text, dest, src, override):\n\u001b[1;32m---> 78\u001b[0m     token \u001b[38;5;241m=\u001b[39m \u001b[38;5;28;43mself\u001b[39;49m\u001b[38;5;241;43m.\u001b[39;49m\u001b[43mtoken_acquirer\u001b[49m\u001b[38;5;241;43m.\u001b[39;49m\u001b[43mdo\u001b[49m\u001b[43m(\u001b[49m\u001b[43mtext\u001b[49m\u001b[43m)\u001b[49m\n\u001b[0;32m     79\u001b[0m     params \u001b[38;5;241m=\u001b[39m utils\u001b[38;5;241m.\u001b[39mbuild_params(query\u001b[38;5;241m=\u001b[39mtext, src\u001b[38;5;241m=\u001b[39msrc, dest\u001b[38;5;241m=\u001b[39mdest,\n\u001b[0;32m     80\u001b[0m                                 token\u001b[38;5;241m=\u001b[39mtoken, override\u001b[38;5;241m=\u001b[39moverride)\n\u001b[0;32m     82\u001b[0m     url \u001b[38;5;241m=\u001b[39m urls\u001b[38;5;241m.\u001b[39mTRANSLATE\u001b[38;5;241m.\u001b[39mformat(host\u001b[38;5;241m=\u001b[39m\u001b[38;5;28mself\u001b[39m\u001b[38;5;241m.\u001b[39m_pick_service_url())\n",
      "File \u001b[1;32m~\\anaconda3\\lib\\site-packages\\googletrans\\gtoken.py:194\u001b[0m, in \u001b[0;36mTokenAcquirer.do\u001b[1;34m(self, text)\u001b[0m\n\u001b[0;32m    193\u001b[0m \u001b[38;5;28;01mdef\u001b[39;00m \u001b[38;5;21mdo\u001b[39m(\u001b[38;5;28mself\u001b[39m, text):\n\u001b[1;32m--> 194\u001b[0m     \u001b[38;5;28;43mself\u001b[39;49m\u001b[38;5;241;43m.\u001b[39;49m\u001b[43m_update\u001b[49m\u001b[43m(\u001b[49m\u001b[43m)\u001b[49m\n\u001b[0;32m    195\u001b[0m     tk \u001b[38;5;241m=\u001b[39m \u001b[38;5;28mself\u001b[39m\u001b[38;5;241m.\u001b[39macquire(text)\n\u001b[0;32m    196\u001b[0m     \u001b[38;5;28;01mreturn\u001b[39;00m tk\n",
      "File \u001b[1;32m~\\anaconda3\\lib\\site-packages\\googletrans\\gtoken.py:62\u001b[0m, in \u001b[0;36mTokenAcquirer._update\u001b[1;34m(self)\u001b[0m\n\u001b[0;32m     59\u001b[0m     \u001b[38;5;28;01mreturn\u001b[39;00m\n\u001b[0;32m     61\u001b[0m \u001b[38;5;66;03m# this will be the same as python code after stripping out a reserved word 'var'\u001b[39;00m\n\u001b[1;32m---> 62\u001b[0m code \u001b[38;5;241m=\u001b[39m \u001b[38;5;28;43mself\u001b[39;49m\u001b[38;5;241;43m.\u001b[39;49m\u001b[43mRE_TKK\u001b[49m\u001b[38;5;241;43m.\u001b[39;49m\u001b[43msearch\u001b[49m\u001b[43m(\u001b[49m\u001b[43mr\u001b[49m\u001b[38;5;241;43m.\u001b[39;49m\u001b[43mtext\u001b[49m\u001b[43m)\u001b[49m\u001b[38;5;241;43m.\u001b[39;49m\u001b[43mgroup\u001b[49m(\u001b[38;5;241m1\u001b[39m)\u001b[38;5;241m.\u001b[39mreplace(\u001b[38;5;124m'\u001b[39m\u001b[38;5;124mvar \u001b[39m\u001b[38;5;124m'\u001b[39m, \u001b[38;5;124m'\u001b[39m\u001b[38;5;124m'\u001b[39m)\n\u001b[0;32m     63\u001b[0m \u001b[38;5;66;03m# unescape special ascii characters such like a \\x3d(=)\u001b[39;00m\n\u001b[0;32m     64\u001b[0m code \u001b[38;5;241m=\u001b[39m code\u001b[38;5;241m.\u001b[39mencode()\u001b[38;5;241m.\u001b[39mdecode(\u001b[38;5;124m'\u001b[39m\u001b[38;5;124municode-escape\u001b[39m\u001b[38;5;124m'\u001b[39m)\n",
      "\u001b[1;31mAttributeError\u001b[0m: 'NoneType' object has no attribute 'group'"
     ]
    }
   ],
   "source": [
    "while True:\n",
    "    try:\n",
    "        with sr.Microphone() as mic:\n",
    "            recognizer = sr.Recognizer()\n",
    "            recognizer.adjust_for_ambient_noise(mic, duration = 0.3)\n",
    "            audio = recognizer.listen(mic, phrase_time_limit=3)\n",
    "            call = recognizer.recognize_google(audio).lower()\n",
    "            print(\"You:\\n\", call)\n",
    "\n",
    "            if 'ernest' in call or 'honest' in call or 'hyannis' in call or 'earnest' in call:\n",
    "                trigger_response()\n",
    "    except sr.UnknownValueError:\n",
    "        print(\"No audio detected. Continue detecting in background...\")\n",
    "        continue"
   ]
  },
  {
   "cell_type": "code",
   "execution_count": null,
   "id": "6013d7e7",
   "metadata": {},
   "outputs": [],
   "source": []
  }
 ],
 "metadata": {
  "kernelspec": {
   "display_name": "Python 3 (ipykernel)",
   "language": "python",
   "name": "python3"
  },
  "language_info": {
   "codemirror_mode": {
    "name": "ipython",
    "version": 3
   },
   "file_extension": ".py",
   "mimetype": "text/x-python",
   "name": "python",
   "nbconvert_exporter": "python",
   "pygments_lexer": "ipython3",
   "version": "3.10.9"
  }
 },
 "nbformat": 4,
 "nbformat_minor": 5
}
